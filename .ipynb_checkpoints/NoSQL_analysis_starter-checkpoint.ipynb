{
 "cells": [
  {
   "cell_type": "markdown",
   "id": "9a57c4c6",
   "metadata": {},
   "source": [
    "# Eat Safe, Love"
   ]
  },
  {
   "cell_type": "code",
   "execution_count": null,
   "id": "63d8d853-3e08-454c-af29-a82c2eb97868",
   "metadata": {},
   "outputs": [],
   "source": [
    "mongoimport --type json -d uk_food -c establishments --drop --jsonArray establishments.json\n"
   ]
  },
  {
   "cell_type": "markdown",
   "id": "064ef857",
   "metadata": {},
   "source": [
    "## Notebook Set Up"
   ]
  },
  {
   "cell_type": "code",
   "execution_count": 26,
   "id": "3ecdd008",
   "metadata": {
    "tags": []
   },
   "outputs": [],
   "source": [
    "# Import dependencies\n",
    "from pymongo import MongoClient\n",
    "from pprint import pprint\n",
    "import pandas as pd"
   ]
  },
  {
   "cell_type": "code",
   "execution_count": 27,
   "id": "59390c4a",
   "metadata": {
    "tags": []
   },
   "outputs": [],
   "source": [
    "# Create an instance of MongoClient\n",
    "mongo = MongoClient(port=27017)\n"
   ]
  },
  {
   "cell_type": "code",
   "execution_count": 28,
   "id": "71e373c1",
   "metadata": {
    "tags": []
   },
   "outputs": [],
   "source": [
    "# assign the uk_food database to a variable name\n",
    "db = mongo['uk_food']"
   ]
  },
  {
   "cell_type": "code",
   "execution_count": 29,
   "id": "18ab463c",
   "metadata": {
    "tags": []
   },
   "outputs": [
    {
     "name": "stdout",
     "output_type": "stream",
     "text": [
      "['establishments']\n"
     ]
    }
   ],
   "source": [
    "# review the collections in our database\n",
    "print(db.list_collection_names())"
   ]
  },
  {
   "cell_type": "code",
   "execution_count": 30,
   "id": "11c9f11b",
   "metadata": {
    "tags": []
   },
   "outputs": [],
   "source": [
    "# assign the collection to a variable\n",
    "establishments = db['establishments']"
   ]
  },
  {
   "cell_type": "markdown",
   "id": "d5671434",
   "metadata": {},
   "source": [
    "## Part 3: Exploratory Analysis\n",
    "Unless otherwise stated, for each question: \n",
    "* Use `count_documents` to display the number of documents contained in the result.\n",
    "* Display the first document in the results using `pprint`.\n",
    "* Convert the result to a Pandas DataFrame, print the number of rows in the DataFrame, and display the first 10 rows."
   ]
  },
  {
   "cell_type": "markdown",
   "id": "314bd884",
   "metadata": {},
   "source": [
    "### 1. Which establishments have a hygiene score equal to 20?"
   ]
  },
  {
   "cell_type": "code",
   "execution_count": 6,
   "id": "c2da7648",
   "metadata": {
    "tags": []
   },
   "outputs": [
    {
     "name": "stdout",
     "output_type": "stream",
     "text": [
      "41\n",
      "{'AddressLine1': '5-6 Southfields Road',\n",
      " 'AddressLine2': 'Eastbourne',\n",
      " 'AddressLine3': 'East Sussex',\n",
      " 'AddressLine4': '',\n",
      " 'BusinessName': 'The Chase Rest Home',\n",
      " 'BusinessType': 'Caring Premises',\n",
      " 'BusinessTypeID': 5,\n",
      " 'ChangesByServerID': 0,\n",
      " 'Distance': 4613.888288172291,\n",
      " 'FHRSID': 110681,\n",
      " 'LocalAuthorityBusinessID': '4029',\n",
      " 'LocalAuthorityCode': '102',\n",
      " 'LocalAuthorityEmailAddress': 'Customerfirst@eastbourne.gov.uk',\n",
      " 'LocalAuthorityName': 'Eastbourne',\n",
      " 'LocalAuthorityWebSite': 'http://www.eastbourne.gov.uk/foodratings',\n",
      " 'NewRatingPending': False,\n",
      " 'Phone': '',\n",
      " 'PostCode': 'BN21 1BU',\n",
      " 'RatingDate': '2021-09-23T00:00:00',\n",
      " 'RatingKey': 'fhrs_0_en-gb',\n",
      " 'RatingValue': '0',\n",
      " 'RightToReply': '',\n",
      " 'SchemeType': 'FHRS',\n",
      " '_id': ObjectId('6515aee50a9ee5e66210d04d'),\n",
      " 'geocode': {'latitude': '50.769705', 'longitude': '0.27694'},\n",
      " 'links': [{'href': 'https://api.ratings.food.gov.uk/establishments/110681',\n",
      "            'rel': 'self'}],\n",
      " 'meta': {'dataSource': None,\n",
      "          'extractDate': '0001-01-01T00:00:00',\n",
      "          'itemCount': 0,\n",
      "          'pageNumber': 0,\n",
      "          'pageSize': 0,\n",
      "          'returncode': None,\n",
      "          'totalCount': 0,\n",
      "          'totalPages': 0},\n",
      " 'scores': {'ConfidenceInManagement': 20, 'Hygiene': 20, 'Structural': 20}}\n"
     ]
    }
   ],
   "source": [
    "# Find the establishments with a hygiene score of 20\n",
    "query = {'scores.Hygiene':{'$eq':20}}\n",
    "\n",
    "# Use count_documents to display the number of documents in the result\n",
    "count_documents= establishments.count_documents(query)\n",
    "print(count_documents)\n",
    "\n",
    "# Display the first document in the results using pprint\n",
    "first_document = establishments.find_one(query)\n",
    "if first_document:\n",
    "    pprint(first_document)\n",
    "else:\n",
    "    print(\"No documents found with a hygiene score of 20.\")"
   ]
  },
  {
   "cell_type": "code",
   "execution_count": 7,
   "id": "a6e5cece",
   "metadata": {
    "tags": []
   },
   "outputs": [
    {
     "name": "stdout",
     "output_type": "stream",
     "text": [
      "41\n",
      "                        _id   FHRSID  ChangesByServerID  \\\n",
      "0  6515aee50a9ee5e66210d04d   110681                  0   \n",
      "1  6515aee50a9ee5e66210d3c2   612039                  0   \n",
      "2  6515aee50a9ee5e66210d6e1   730933                  0   \n",
      "3  6515aee50a9ee5e66210d8c1   172735                  0   \n",
      "4  6515aee50a9ee5e66210d8d2   172953                  0   \n",
      "5  6515aee60a9ee5e66210e26b   512854                  0   \n",
      "6  6515aee60a9ee5e66210e490  1537089                  0   \n",
      "7  6515aee60a9ee5e66210f9b6   155648                  0   \n",
      "8  6515aee60a9ee5e66210fdfb  1012883                  0   \n",
      "9  6515aee60a9ee5e66211060a   644109                  0   \n",
      "\n",
      "  LocalAuthorityBusinessID               BusinessName  \\\n",
      "0                     4029        The Chase Rest Home   \n",
      "1                1970/FOOD                 Brenalwood   \n",
      "2                1698/FOOD              Melrose Hotel   \n",
      "3             PI/000023858              Seaford Pizza   \n",
      "4             PI/000024532              Golden Palace   \n",
      "5            12/00816/BUTH           Ashby's Butchers   \n",
      "6          22/00224/RESTUN  South Sea Express Cuisine   \n",
      "7              EH/00006058              Golden Palace   \n",
      "8         17/00110/MIXED/S             The Tulip Tree   \n",
      "9                    41811                      F & S   \n",
      "\n",
      "                        BusinessType  BusinessTypeID           AddressLine1  \\\n",
      "0                    Caring Premises               5   5-6 Southfields Road   \n",
      "1                    Caring Premises               5              Hall Lane   \n",
      "2  Hotel/bed & breakfast/guest house            7842  53 Marine Parade East   \n",
      "3             Takeaway/sandwich shop            7844          4 High Street   \n",
      "4            Restaurant/Cafe/Canteen               1         5 South Street   \n",
      "5                  Retailers - other            4613   777 Southchurch Road   \n",
      "6            Restaurant/Cafe/Canteen               1    33 Alexandra Street   \n",
      "7             Takeaway/sandwich shop            7844          7 London Road   \n",
      "8            Restaurant/Cafe/Canteen               1          3 The Village   \n",
      "9                  Retailers - other            4613                          \n",
      "\n",
      "         AddressLine2 AddressLine3  ...  \\\n",
      "0          Eastbourne  East Sussex  ...   \n",
      "1  Walton-on-the-Naze        Essex  ...   \n",
      "2      Clacton On Sea        Essex  ...   \n",
      "3             Seaford  East Sussex  ...   \n",
      "4             Seaford  East Sussex  ...   \n",
      "5     Southend-On-Sea        Essex  ...   \n",
      "6     Southend-on-sea        Essex  ...   \n",
      "7            Rayleigh        Essex  ...   \n",
      "8       Chiddingstone         KENT  ...   \n",
      "9      81 Southernhay     Basildon  ...   \n",
      "\n",
      "                      LocalAuthorityWebSite  \\\n",
      "0  http://www.eastbourne.gov.uk/foodratings   \n",
      "1             http://www.tendringdc.gov.uk/   \n",
      "2             http://www.tendringdc.gov.uk/   \n",
      "3       http://www.lewes-eastbourne.gov.uk/   \n",
      "4       http://www.lewes-eastbourne.gov.uk/   \n",
      "5                http://www.southend.gov.uk   \n",
      "6                http://www.southend.gov.uk   \n",
      "7                http://www.rochford.gov.uk   \n",
      "8              http://www.sevenoaks.gov.uk/   \n",
      "9                http://www.basildon.gov.uk   \n",
      "\n",
      "              LocalAuthorityEmailAddress  \\\n",
      "0        Customerfirst@eastbourne.gov.uk   \n",
      "1             fhsadmin@tendringdc.gov.uk   \n",
      "2             fhsadmin@tendringdc.gov.uk   \n",
      "3    ehealth.ldc@lewes-eastbourne.gov.uk   \n",
      "4    ehealth.ldc@lewes-eastbourne.gov.uk   \n",
      "5    EnvironmentalHealth@southend.gov.uk   \n",
      "6    EnvironmentalHealth@southend.gov.uk   \n",
      "7       customerservices@rochford.gov.uk   \n",
      "8  environmental.health@sevenoaks.gov.uk   \n",
      "9                    ehs@basildon.gov.uk   \n",
      "\n",
      "                                              scores SchemeType  \\\n",
      "0  {'Hygiene': 20, 'Structural': 20, 'ConfidenceI...       FHRS   \n",
      "1  {'Hygiene': 20, 'Structural': 15, 'ConfidenceI...       FHRS   \n",
      "2  {'Hygiene': 20, 'Structural': 20, 'ConfidenceI...       FHRS   \n",
      "3  {'Hygiene': 20, 'Structural': 10, 'ConfidenceI...       FHRS   \n",
      "4  {'Hygiene': 20, 'Structural': 10, 'ConfidenceI...       FHRS   \n",
      "5  {'Hygiene': 20, 'Structural': 20, 'ConfidenceI...       FHRS   \n",
      "6  {'Hygiene': 20, 'Structural': 20, 'ConfidenceI...       FHRS   \n",
      "7  {'Hygiene': 20, 'Structural': 15, 'ConfidenceI...       FHRS   \n",
      "8  {'Hygiene': 20, 'Structural': 5, 'ConfidenceIn...       FHRS   \n",
      "9  {'Hygiene': 20, 'Structural': 20, 'ConfidenceI...       FHRS   \n",
      "\n",
      "                                             geocode RightToReply  \\\n",
      "0  {'longitude': '0.27694', 'latitude': '50.769705'}                \n",
      "1  {'longitude': '1.278721', 'latitude': '51.8575...                \n",
      "2  {'longitude': '1.15927', 'latitude': '51.789429'}                \n",
      "3  {'longitude': '0.10202', 'latitude': '50.770885'}                \n",
      "4  {'longitude': '0.101446', 'latitude': '50.7707...                \n",
      "5  {'longitude': '0.736349', 'latitude': '51.5414...                \n",
      "6  {'longitude': '0.7121671', 'latitude': '51.535...                \n",
      "7  {'longitude': '0.602364', 'latitude': '51.5915...                \n",
      "8  {'longitude': '0.146449998021126', 'latitude':...                \n",
      "9  {'longitude': '0.462307', 'latitude': '51.57005'}                \n",
      "\n",
      "      Distance NewRatingPending  \\\n",
      "0  4613.888288            False   \n",
      "1  4617.965824            False   \n",
      "2  4619.656144            False   \n",
      "3  4620.421725            False   \n",
      "4  4620.437179            False   \n",
      "5  4625.565258            False   \n",
      "6  4626.200132            False   \n",
      "7  4632.276890            False   \n",
      "8  4633.934041            False   \n",
      "9  4636.552523            False   \n",
      "\n",
      "                                                meta  \\\n",
      "0  {'dataSource': None, 'extractDate': '0001-01-0...   \n",
      "1  {'dataSource': None, 'extractDate': '0001-01-0...   \n",
      "2  {'dataSource': None, 'extractDate': '0001-01-0...   \n",
      "3  {'dataSource': None, 'extractDate': '0001-01-0...   \n",
      "4  {'dataSource': None, 'extractDate': '0001-01-0...   \n",
      "5  {'dataSource': None, 'extractDate': '0001-01-0...   \n",
      "6  {'dataSource': None, 'extractDate': '0001-01-0...   \n",
      "7  {'dataSource': None, 'extractDate': '0001-01-0...   \n",
      "8  {'dataSource': None, 'extractDate': '0001-01-0...   \n",
      "9  {'dataSource': None, 'extractDate': '0001-01-0...   \n",
      "\n",
      "                                               links  \n",
      "0  [{'rel': 'self', 'href': 'https://api.ratings....  \n",
      "1  [{'rel': 'self', 'href': 'https://api.ratings....  \n",
      "2  [{'rel': 'self', 'href': 'https://api.ratings....  \n",
      "3  [{'rel': 'self', 'href': 'https://api.ratings....  \n",
      "4  [{'rel': 'self', 'href': 'https://api.ratings....  \n",
      "5  [{'rel': 'self', 'href': 'https://api.ratings....  \n",
      "6  [{'rel': 'self', 'href': 'https://api.ratings....  \n",
      "7  [{'rel': 'self', 'href': 'http://api.ratings.f...  \n",
      "8  [{'rel': 'self', 'href': 'http://api.ratings.f...  \n",
      "9  [{'rel': 'self', 'href': 'http://api.ratings.f...  \n",
      "\n",
      "[10 rows x 28 columns]\n"
     ]
    }
   ],
   "source": [
    "# Convert the result to a Pandas DataFrame\n",
    "dataframe=establishments.find(query)\n",
    "df= pd.DataFrame(list(dataframe))\n",
    "# Display the number of rows in the DataFrame\n",
    "num_rows= len(df)\n",
    "print(num_rows)\n",
    "# Display the first 10 rows of the DataFrame\n",
    "print(df.head(10))"
   ]
  },
  {
   "cell_type": "markdown",
   "id": "0ef4395a",
   "metadata": {},
   "source": [
    "### 2. Which establishments in London have a `RatingValue` greater than or equal to 4?"
   ]
  },
  {
   "cell_type": "code",
   "execution_count": 8,
   "id": "93c63829",
   "metadata": {
    "tags": []
   },
   "outputs": [
    {
     "name": "stdout",
     "output_type": "stream",
     "text": [
      "36292\n",
      "{'AddressLine1': 'The Pines Garden',\n",
      " 'AddressLine2': 'Beach Road',\n",
      " 'AddressLine3': 'St Margarets Bay',\n",
      " 'AddressLine4': 'Kent',\n",
      " 'BusinessName': 'The Tea Room',\n",
      " 'BusinessType': 'Restaurant/Cafe/Canteen',\n",
      " 'BusinessTypeID': 1,\n",
      " 'ChangesByServerID': 0,\n",
      " 'Distance': 4587.362402580997,\n",
      " 'FHRSID': 551803,\n",
      " 'LocalAuthorityBusinessID': 'PI/000070948',\n",
      " 'LocalAuthorityCode': '182',\n",
      " 'LocalAuthorityEmailAddress': 'publicprotection@dover.gov.uk',\n",
      " 'LocalAuthorityName': 'Dover',\n",
      " 'LocalAuthorityWebSite': 'http://www.dover.gov.uk/',\n",
      " 'NewRatingPending': False,\n",
      " 'Phone': '',\n",
      " 'PostCode': 'CT15 6DZ',\n",
      " 'RatingDate': '2021-08-17T00:00:00',\n",
      " 'RatingKey': 'fhrs_5_en-gb',\n",
      " 'RatingValue': '5',\n",
      " 'RightToReply': '',\n",
      " 'SchemeType': 'FHRS',\n",
      " '_id': ObjectId('6515aee50a9ee5e66210b22c'),\n",
      " 'geocode': {'latitude': '51.148133', 'longitude': '1.383298'},\n",
      " 'links': [{'href': 'https://api.ratings.food.gov.uk/establishments/551803',\n",
      "            'rel': 'self'}],\n",
      " 'meta': {'dataSource': None,\n",
      "          'extractDate': '0001-01-01T00:00:00',\n",
      "          'itemCount': 0,\n",
      "          'pageNumber': 0,\n",
      "          'pageSize': 0,\n",
      "          'returncode': None,\n",
      "          'totalCount': 0,\n",
      "          'totalPages': 0},\n",
      " 'scores': {'ConfidenceInManagement': 0, 'Hygiene': 0, 'Structural': 0}}\n"
     ]
    }
   ],
   "source": [
    "# Find the establishments with London as the Local Authority and has a RatingValue greater than or equal to 4.\n",
    "query1 ={'RatingValue': {'$gte':'4'}}\n",
    "\n",
    "# Use count_documents to display the number of documents in the result\n",
    "count_documents_rating= establishments.count_documents(query1)\n",
    "print(count_documents_rating)\n",
    "# Display the first document in the results using pprint\n",
    "first_document1 = establishments.find_one(query1)\n",
    "pprint(first_document1)"
   ]
  },
  {
   "cell_type": "code",
   "execution_count": 9,
   "id": "07e24ccb",
   "metadata": {
    "tags": []
   },
   "outputs": [
    {
     "name": "stdout",
     "output_type": "stream",
     "text": [
      "36292\n",
      "                        _id   FHRSID  ChangesByServerID  \\\n",
      "0  6515aee50a9ee5e66210b22c   551803                  0   \n",
      "1  6515aee50a9ee5e66210b22d   632212                  0   \n",
      "2  6515aee50a9ee5e66210b22e   254719                  0   \n",
      "3  6515aee50a9ee5e66210b22f   429991                  0   \n",
      "4  6515aee50a9ee5e66210b230  1531040                  0   \n",
      "5  6515aee50a9ee5e66210b231  1273080                  0   \n",
      "6  6515aee50a9ee5e66210b232  1290215                  0   \n",
      "7  6515aee50a9ee5e66210b233   452092                  0   \n",
      "8  6515aee50a9ee5e66210b234  1034540                  0   \n",
      "9  6515aee50a9ee5e66210b235   254410                  0   \n",
      "\n",
      "  LocalAuthorityBusinessID                       BusinessName  \\\n",
      "0             PI/000070948                       The Tea Room   \n",
      "1             PI/000043474                        Lenox House   \n",
      "2             PI/000069980                  Refreshment Kiosk   \n",
      "3             PI/000055200                Mrs Knotts Tea Room   \n",
      "4             PI/000085904                    The Halfway Hut   \n",
      "5             PI/000082753                        Lovetocater   \n",
      "6             PI/000083029              FirstLight Bar & Café   \n",
      "7             PI/000040614     Walmer and Kingsdown Golf Club   \n",
      "8             PI/000078691                 The Coastguard Inn   \n",
      "9             PI/000053944  St Margarets At Cliffe C P School   \n",
      "\n",
      "                        BusinessType  BusinessTypeID  \\\n",
      "0            Restaurant/Cafe/Canteen               1   \n",
      "1  Hotel/bed & breakfast/guest house            7842   \n",
      "2            Restaurant/Cafe/Canteen               1   \n",
      "3            Restaurant/Cafe/Canteen               1   \n",
      "4            Restaurant/Cafe/Canteen               1   \n",
      "5            Restaurant/Cafe/Canteen               1   \n",
      "6            Restaurant/Cafe/Canteen               1   \n",
      "7                  Pub/bar/nightclub            7843   \n",
      "8                  Pub/bar/nightclub            7843   \n",
      "9          School/college/university            7845   \n",
      "\n",
      "                     AddressLine1               AddressLine2  \\\n",
      "0                The Pines Garden                 Beach Road   \n",
      "1               27 Granville Road           St Margarets Bay   \n",
      "2                         The Bay           St Margarets Bay   \n",
      "3                    West Cottage  South Foreland Lighthouse   \n",
      "4  Walmer And Kingsdown Golf Club                   The Leas   \n",
      "5  Walmer And Kingsdown Golf Club                   The Leas   \n",
      "6                  1 The Droveway           St Margarets Bay   \n",
      "7                        The Leas                  Kingsdown   \n",
      "8                         The Bay           St Margarets Bay   \n",
      "9                      Sea Street     St Margarets At Cliffe   \n",
      "\n",
      "       AddressLine3  ...     LocalAuthorityWebSite  \\\n",
      "0  St Margarets Bay  ...  http://www.dover.gov.uk/   \n",
      "1              Kent  ...  http://www.dover.gov.uk/   \n",
      "2              Kent  ...  http://www.dover.gov.uk/   \n",
      "3         The Front  ...  http://www.dover.gov.uk/   \n",
      "4         Kingsdown  ...  http://www.dover.gov.uk/   \n",
      "5         Kingsdown  ...  http://www.dover.gov.uk/   \n",
      "6              Kent  ...  http://www.dover.gov.uk/   \n",
      "7              Kent  ...  http://www.dover.gov.uk/   \n",
      "8              Kent  ...  http://www.dover.gov.uk/   \n",
      "9              Kent  ...  http://www.dover.gov.uk/   \n",
      "\n",
      "      LocalAuthorityEmailAddress  \\\n",
      "0  publicprotection@dover.gov.uk   \n",
      "1  publicprotection@dover.gov.uk   \n",
      "2  publicprotection@dover.gov.uk   \n",
      "3  publicprotection@dover.gov.uk   \n",
      "4  publicprotection@dover.gov.uk   \n",
      "5  publicprotection@dover.gov.uk   \n",
      "6  publicprotection@dover.gov.uk   \n",
      "7  publicprotection@dover.gov.uk   \n",
      "8  publicprotection@dover.gov.uk   \n",
      "9  publicprotection@dover.gov.uk   \n",
      "\n",
      "                                              scores SchemeType  \\\n",
      "0  {'Hygiene': 0, 'Structural': 0, 'ConfidenceInM...       FHRS   \n",
      "1  {'Hygiene': 0, 'Structural': 0, 'ConfidenceInM...       FHRS   \n",
      "2  {'Hygiene': 0, 'Structural': 5, 'ConfidenceInM...       FHRS   \n",
      "3  {'Hygiene': 0, 'Structural': 0, 'ConfidenceInM...       FHRS   \n",
      "4  {'Hygiene': None, 'Structural': None, 'Confide...       FHRS   \n",
      "5  {'Hygiene': 0, 'Structural': 5, 'ConfidenceInM...       FHRS   \n",
      "6  {'Hygiene': 5, 'Structural': 5, 'ConfidenceInM...       FHRS   \n",
      "7  {'Hygiene': None, 'Structural': None, 'Confide...       FHRS   \n",
      "8  {'Hygiene': 0, 'Structural': 5, 'ConfidenceInM...       FHRS   \n",
      "9  {'Hygiene': 0, 'Structural': 5, 'ConfidenceInM...       FHRS   \n",
      "\n",
      "                                             geocode RightToReply  \\\n",
      "0  {'longitude': '1.383298', 'latitude': '51.1481...                \n",
      "1  {'longitude': '1.385585', 'latitude': '51.1524...                \n",
      "2  {'longitude': '1.387974', 'latitude': '51.1522...                \n",
      "3  {'longitude': '1.371894', 'latitude': '51.14061'}                \n",
      "4  {'longitude': '1.4032986', 'latitude': '51.178...                \n",
      "5  {'longitude': '1.4032986', 'latitude': '51.178...                \n",
      "6  {'longitude': '1.378231', 'latitude': '51.1506...                \n",
      "7  {'longitude': '1.40325689315796', 'latitude': ...                \n",
      "8  {'longitude': '1.387974', 'latitude': '51.1522...                \n",
      "9  {'longitude': '1.375095', 'latitude': '51.1529...                \n",
      "\n",
      "      Distance NewRatingPending  \\\n",
      "0  4587.362403            False   \n",
      "1  4587.440907            False   \n",
      "2  4587.347175            False   \n",
      "3  4587.492468            False   \n",
      "4  4587.792282            False   \n",
      "5  4587.792282            False   \n",
      "6  4587.640413            False   \n",
      "7  4587.793856            False   \n",
      "8  4587.347175            False   \n",
      "9  4587.840617            False   \n",
      "\n",
      "                                                meta  \\\n",
      "0  {'dataSource': None, 'extractDate': '0001-01-0...   \n",
      "1  {'dataSource': None, 'extractDate': '0001-01-0...   \n",
      "2  {'dataSource': None, 'extractDate': '0001-01-0...   \n",
      "3  {'dataSource': None, 'extractDate': '0001-01-0...   \n",
      "4  {'dataSource': None, 'extractDate': '0001-01-0...   \n",
      "5  {'dataSource': None, 'extractDate': '0001-01-0...   \n",
      "6  {'dataSource': None, 'extractDate': '0001-01-0...   \n",
      "7  {'dataSource': None, 'extractDate': '0001-01-0...   \n",
      "8  {'dataSource': None, 'extractDate': '0001-01-0...   \n",
      "9  {'dataSource': None, 'extractDate': '0001-01-0...   \n",
      "\n",
      "                                               links  \n",
      "0  [{'rel': 'self', 'href': 'https://api.ratings....  \n",
      "1  [{'rel': 'self', 'href': 'https://api.ratings....  \n",
      "2  [{'rel': 'self', 'href': 'https://api.ratings....  \n",
      "3  [{'rel': 'self', 'href': 'https://api.ratings....  \n",
      "4  [{'rel': 'self', 'href': 'https://api.ratings....  \n",
      "5  [{'rel': 'self', 'href': 'https://api.ratings....  \n",
      "6  [{'rel': 'self', 'href': 'https://api.ratings....  \n",
      "7  [{'rel': 'self', 'href': 'https://api.ratings....  \n",
      "8  [{'rel': 'self', 'href': 'https://api.ratings....  \n",
      "9  [{'rel': 'self', 'href': 'https://api.ratings....  \n",
      "\n",
      "[10 rows x 28 columns]\n"
     ]
    }
   ],
   "source": [
    "# Convert the result to a Pandas DataFrame\n",
    "dataframe1=establishments.find(query1)\n",
    "df1= pd.DataFrame(list(dataframe1))\n",
    "# Display the number of rows in the DataFrame\n",
    "num_rows1= len(df1)\n",
    "print(num_rows1)\n",
    "# Display the first 10 rows of the DataFrame\n",
    "print(df1.head(10))\n"
   ]
  },
  {
   "cell_type": "markdown",
   "id": "4e570caf",
   "metadata": {},
   "source": [
    "### 3. What are the top 5 establishments with a `RatingValue` rating value of 5, sorted by lowest hygiene score, nearest to the new restaurant added, \"Penang Flavours\"?"
   ]
  },
  {
   "cell_type": "code",
   "execution_count": 20,
   "id": "7f599f3d",
   "metadata": {
    "tags": []
   },
   "outputs": [
    {
     "name": "stdout",
     "output_type": "stream",
     "text": [
      "Restaurant 'Penang Flavours' not found in the database.\n"
     ]
    }
   ],
   "source": [
    "# Search within 0.01 degree on either side of the latitude and longitude.\n",
    "# Rating value must equal 5\n",
    "# Sort by hygiene score\n",
    "# restaurant_name= \"Penang Flavours\"\n",
    "# query1={'BusinessName': restaurant_name}\n",
    "# # Perform the query to find the restaurant's coordinates\n",
    "# restaurant_data = establishments.find_one(query1)\n",
    "\n",
    "# # Extract the coordinates from the restaurant's data\n",
    "# if restaurant_data:\n",
    "#     coordinates = restaurant_data['geocode']\n",
    "#     latitude = coordinates['latitude']\n",
    "#     longitude = coordinates['longitude']\n",
    "#     print(f\"Coordinates for '{restaurant_name}': Latitude {latitude}, Longitude {longitude}\")\n",
    "# else:\n",
    "#     print(f\"Restaurant '{restaurant_name}' not found in the database.\")\n",
    "\n",
    "degree_search = 0.01\n",
    "latitude = 12.3456\n",
    "longitude = 78.9101\n",
    "\n",
    "query = {\n",
    "    'RatingValue': {'$eq;':5},\n",
    "    'Location': {\n",
    "        '$near': {\n",
    "            '$geometry': {\n",
    "                'type': 'Point',\n",
    "                'coordinates': [longitude,latitude]  # Longitude first, then latitude\n",
    "            },\n",
    "            '$maxDistance': degree_search * 111.32 * 1000  # Convert degrees to meters (approximately)\n",
    "        }\n",
    "    }\n",
    "}\n",
    "sort = {'$sort': { 'scores.Hygiene': -1 }}\n",
    "results = [query, sort]\n",
    "# Print the results\n",
    "for result in results:\n",
    "    pprint(result)"
   ]
  },
  {
   "cell_type": "code",
   "execution_count": 18,
   "id": "a6ad16f7",
   "metadata": {},
   "outputs": [
    {
     "data": {
      "text/html": [
       "<div>\n",
       "<style scoped>\n",
       "    .dataframe tbody tr th:only-of-type {\n",
       "        vertical-align: middle;\n",
       "    }\n",
       "\n",
       "    .dataframe tbody tr th {\n",
       "        vertical-align: top;\n",
       "    }\n",
       "\n",
       "    .dataframe thead th {\n",
       "        text-align: right;\n",
       "    }\n",
       "</style>\n",
       "<table border=\"1\" class=\"dataframe\">\n",
       "  <thead>\n",
       "    <tr style=\"text-align: right;\">\n",
       "      <th></th>\n",
       "      <th>RatingValue</th>\n",
       "      <th>Location</th>\n",
       "      <th>$sort</th>\n",
       "    </tr>\n",
       "  </thead>\n",
       "  <tbody>\n",
       "    <tr>\n",
       "      <th>0</th>\n",
       "      <td>{'$eq;': 5}</td>\n",
       "      <td>{'$near': {'$geometry': {'type': 'Point', 'coo...</td>\n",
       "      <td>NaN</td>\n",
       "    </tr>\n",
       "    <tr>\n",
       "      <th>1</th>\n",
       "      <td>NaN</td>\n",
       "      <td>NaN</td>\n",
       "      <td>{'scores.Hygiene': -1}</td>\n",
       "    </tr>\n",
       "  </tbody>\n",
       "</table>\n",
       "</div>"
      ],
      "text/plain": [
       "   RatingValue                                           Location  \\\n",
       "0  {'$eq;': 5}  {'$near': {'$geometry': {'type': 'Point', 'coo...   \n",
       "1          NaN                                                NaN   \n",
       "\n",
       "                    $sort  \n",
       "0                     NaN  \n",
       "1  {'scores.Hygiene': -1}  "
      ]
     },
     "execution_count": 18,
     "metadata": {},
     "output_type": "execute_result"
    }
   ],
   "source": [
    "# Convert result to Pandas DataFrame\n",
    "df = pd.DataFrame(list(results))\n",
    "df"
   ]
  },
  {
   "cell_type": "markdown",
   "id": "67281254",
   "metadata": {},
   "source": [
    "### 4. How many establishments in each Local Authority area have a hygiene score of 0?"
   ]
  },
  {
   "cell_type": "code",
   "execution_count": 24,
   "id": "4eeb227e",
   "metadata": {},
   "outputs": [
    {
     "name": "stdout",
     "output_type": "stream",
     "text": [
      "Number of documents in the result: 56\n",
      "First 10 results:\n",
      "{'_id': 'Thanet', 'count': 1130}\n",
      "{'_id': 'Greenwich', 'count': 882}\n",
      "{'_id': 'Maidstone', 'count': 713}\n",
      "{'_id': 'Newham', 'count': 711}\n",
      "{'_id': 'Swale', 'count': 686}\n",
      "{'_id': 'Chelmsford', 'count': 680}\n",
      "{'_id': 'Medway', 'count': 672}\n",
      "{'_id': 'Bexley', 'count': 607}\n",
      "{'_id': 'Southend-On-Sea', 'count': 586}\n",
      "{'_id': 'Tendring', 'count': 542}\n"
     ]
    }
   ],
   "source": [
    "# Create a pipeline that: \n",
    "# 1. Matches establishments with a hygiene score of 0\n",
    "# 2. Groups the matches by Local Authority\n",
    "# 3. Sorts the matches from highest to lowest\n",
    "\n",
    "\n",
    "# # Assign the database and collection you want to work with to variables\n",
    "# db = mongo[\"uk_food\"]  # Change \"uk_food\" to your database name\n",
    "# collection = db[\"your_collection_name\"]  # Change \"your_collection_name\" to the actual collection name\n",
    "\n",
    "# Define the aggregation pipeline\n",
    "pipeline = [\n",
    "    {\n",
    "        '$match': {\n",
    "            'scores.Hygiene': 0  # Match establishments with a hygiene score of 0\n",
    "        }\n",
    "    },\n",
    "    {\n",
    "        '$group': {\n",
    "            '_id': '$LocalAuthorityName',  # Group by Local Authority\n",
    "            'count': {'$sum': 1}  # Count the number of documents in each group\n",
    "        }\n",
    "    },\n",
    "    {\n",
    "        '$sort': {\n",
    "            'count': -1  # Sort by count in descending order (highest to lowest)\n",
    "        }\n",
    "    }\n",
    "]\n",
    "\n",
    "# Perform the aggregation using the pipeline\n",
    "results = list(establishments.aggregate(pipeline))\n",
    "\n",
    "# Print the number of documents in the result\n",
    "print(f\"Number of documents in the result: {len(results)}\")\n",
    "\n",
    "# Print the first 10 results\n",
    "print(\"First 10 results:\")\n",
    "for result in results[:10]:\n",
    "    pprint(result)\n",
    "\n",
    "# query = {'scores.Hygiene':{'$eq':0}}\n",
    "\n",
    "# # Use count_documents to display the number of documents in the result\n",
    "# count_documents= establishments.count_documents(query)\n",
    "# print(count_documents)\n"
   ]
  },
  {
   "cell_type": "code",
   "execution_count": 25,
   "id": "d8aab364",
   "metadata": {},
   "outputs": [
    {
     "name": "stdout",
     "output_type": "stream",
     "text": [
      "               _id  count\n",
      "0           Thanet   1130\n",
      "1        Greenwich    882\n",
      "2        Maidstone    713\n",
      "3           Newham    711\n",
      "4            Swale    686\n",
      "5       Chelmsford    680\n",
      "6           Medway    672\n",
      "7           Bexley    607\n",
      "8  Southend-On-Sea    586\n",
      "9         Tendring    542\n"
     ]
    }
   ],
   "source": [
    "# Convert the result to a Pandas DataFrame\n",
    "df=pd.DataFrame(results)\n",
    "# Display the number of rows in the DataFrame\n",
    "num_rows= len(df)\n",
    "# Display the first 10 rows of the DataFrame\n",
    "a= df.head(10)\n",
    "print(a)"
   ]
  },
  {
   "cell_type": "code",
   "execution_count": null,
   "id": "c1c4ac80-b5df-4454-9280-0509b0dbc704",
   "metadata": {},
   "outputs": [],
   "source": []
  }
 ],
 "metadata": {
  "kernelspec": {
   "display_name": "Python 3 (ipykernel)",
   "language": "python",
   "name": "python3"
  },
  "language_info": {
   "codemirror_mode": {
    "name": "ipython",
    "version": 3
   },
   "file_extension": ".py",
   "mimetype": "text/x-python",
   "name": "python",
   "nbconvert_exporter": "python",
   "pygments_lexer": "ipython3",
   "version": "3.10.11"
  }
 },
 "nbformat": 4,
 "nbformat_minor": 5
}
